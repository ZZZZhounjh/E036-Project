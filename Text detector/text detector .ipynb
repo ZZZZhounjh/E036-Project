{
 "cells": [
  {
   "cell_type": "code",
   "execution_count": 779,
   "id": "e1e3d050",
   "metadata": {},
   "outputs": [],
   "source": [
    "import pandas as pd\n",
    "import numpy as nm\n",
    "\n",
    "#for Label Encoding\n",
    "from sklearn.preprocessing import LabelEncoder\n",
    "\n",
    "#for Data Visualization\n",
    "import matplotlib.pyplot as plt\n",
    "import seaborn as sns\n",
    "\n",
    "#for Data splitting\n",
    "from sklearn.model_selection import train_test_split\n",
    "\n",
    "import warnings\n",
    "warnings.filterwarnings(\"ignore\")"
   ]
  },
  {
   "cell_type": "code",
   "execution_count": 780,
   "id": "53a0b824",
   "metadata": {},
   "outputs": [
    {
     "data": {
      "text/plain": [
       "(15446, 2)"
      ]
     },
     "execution_count": 780,
     "metadata": {},
     "output_type": "execute_result"
    }
   ],
   "source": [
    "df = pd.read_csv(r'trainset_new1.csv')\n",
    "df.shape"
   ]
  },
  {
   "cell_type": "code",
   "execution_count": 781,
   "id": "89488332",
   "metadata": {},
   "outputs": [
    {
     "data": {
      "text/html": [
       "<div>\n",
       "<style scoped>\n",
       "    .dataframe tbody tr th:only-of-type {\n",
       "        vertical-align: middle;\n",
       "    }\n",
       "\n",
       "    .dataframe tbody tr th {\n",
       "        vertical-align: top;\n",
       "    }\n",
       "\n",
       "    .dataframe thead th {\n",
       "        text-align: right;\n",
       "    }\n",
       "</style>\n",
       "<table border=\"1\" class=\"dataframe\">\n",
       "  <thead>\n",
       "    <tr style=\"text-align: right;\">\n",
       "      <th></th>\n",
       "      <th>text</th>\n",
       "      <th>class</th>\n",
       "    </tr>\n",
       "  </thead>\n",
       "  <tbody>\n",
       "    <tr>\n",
       "      <th>0</th>\n",
       "      <td>Supply Quality China's EXCLUSIVE dimensions at...</td>\n",
       "      <td>1</td>\n",
       "    </tr>\n",
       "    <tr>\n",
       "      <th>1</th>\n",
       "      <td>over. SidLet me know. Thx.</td>\n",
       "      <td>0</td>\n",
       "    </tr>\n",
       "    <tr>\n",
       "      <th>2</th>\n",
       "      <td>Dear Friend,Greetings to you.I wish to accost ...</td>\n",
       "      <td>1</td>\n",
       "    </tr>\n",
       "    <tr>\n",
       "      <th>3</th>\n",
       "      <td>MR. CHEUNG PUIHANG SENG BANK LTD.DES VOEUX RD....</td>\n",
       "      <td>1</td>\n",
       "    </tr>\n",
       "    <tr>\n",
       "      <th>4</th>\n",
       "      <td>Not a surprising assessment from Embassy.</td>\n",
       "      <td>0</td>\n",
       "    </tr>\n",
       "    <tr>\n",
       "      <th>...</th>\n",
       "      <td>...</td>\n",
       "      <td>...</td>\n",
       "    </tr>\n",
       "    <tr>\n",
       "      <th>15441</th>\n",
       "      <td>abc s good morning america ranks it the NUMBE...</td>\n",
       "      <td>1</td>\n",
       "    </tr>\n",
       "    <tr>\n",
       "      <th>15442</th>\n",
       "      <td>hyperlink hyperlink hyperlink let mortgage le...</td>\n",
       "      <td>1</td>\n",
       "    </tr>\n",
       "    <tr>\n",
       "      <th>15443</th>\n",
       "      <td>thank you for shopping with us gifts for all ...</td>\n",
       "      <td>1</td>\n",
       "    </tr>\n",
       "    <tr>\n",
       "      <th>15444</th>\n",
       "      <td>the famous ebay marketing e course learn to s...</td>\n",
       "      <td>1</td>\n",
       "    </tr>\n",
       "    <tr>\n",
       "      <th>15445</th>\n",
       "      <td>hello this is chinese traditional ??� ??? NUM...</td>\n",
       "      <td>1</td>\n",
       "    </tr>\n",
       "  </tbody>\n",
       "</table>\n",
       "<p>15446 rows × 2 columns</p>\n",
       "</div>"
      ],
      "text/plain": [
       "                                                    text class\n",
       "0      Supply Quality China's EXCLUSIVE dimensions at...     1\n",
       "1                             over. SidLet me know. Thx.     0\n",
       "2      Dear Friend,Greetings to you.I wish to accost ...     1\n",
       "3      MR. CHEUNG PUIHANG SENG BANK LTD.DES VOEUX RD....     1\n",
       "4              Not a surprising assessment from Embassy.     0\n",
       "...                                                  ...   ...\n",
       "15441   abc s good morning america ranks it the NUMBE...     1\n",
       "15442   hyperlink hyperlink hyperlink let mortgage le...     1\n",
       "15443   thank you for shopping with us gifts for all ...     1\n",
       "15444   the famous ebay marketing e course learn to s...     1\n",
       "15445   hello this is chinese traditional ??� ??? NUM...     1\n",
       "\n",
       "[15446 rows x 2 columns]"
      ]
     },
     "execution_count": 781,
     "metadata": {},
     "output_type": "execute_result"
    }
   ],
   "source": [
    "df"
   ]
  },
  {
   "cell_type": "code",
   "execution_count": 782,
   "id": "43d76729",
   "metadata": {},
   "outputs": [
    {
     "data": {
      "text/plain": [
       "(15446, 2)"
      ]
     },
     "execution_count": 782,
     "metadata": {},
     "output_type": "execute_result"
    }
   ],
   "source": [
    "df.shape"
   ]
  },
  {
   "cell_type": "markdown",
   "id": "a18ad04e",
   "metadata": {},
   "source": [
    "### Word Count"
   ]
  },
  {
   "cell_type": "code",
   "execution_count": 783,
   "id": "722bbc49",
   "metadata": {},
   "outputs": [
    {
     "data": {
      "text/html": [
       "<div>\n",
       "<style scoped>\n",
       "    .dataframe tbody tr th:only-of-type {\n",
       "        vertical-align: middle;\n",
       "    }\n",
       "\n",
       "    .dataframe tbody tr th {\n",
       "        vertical-align: top;\n",
       "    }\n",
       "\n",
       "    .dataframe thead th {\n",
       "        text-align: right;\n",
       "    }\n",
       "</style>\n",
       "<table border=\"1\" class=\"dataframe\">\n",
       "  <thead>\n",
       "    <tr style=\"text-align: right;\">\n",
       "      <th></th>\n",
       "      <th>text</th>\n",
       "      <th>word_count</th>\n",
       "    </tr>\n",
       "  </thead>\n",
       "  <tbody>\n",
       "    <tr>\n",
       "      <th>0</th>\n",
       "      <td>Supply Quality China's EXCLUSIVE dimensions at...</td>\n",
       "      <td>171</td>\n",
       "    </tr>\n",
       "    <tr>\n",
       "      <th>1</th>\n",
       "      <td>over. SidLet me know. Thx.</td>\n",
       "      <td>5</td>\n",
       "    </tr>\n",
       "    <tr>\n",
       "      <th>2</th>\n",
       "      <td>Dear Friend,Greetings to you.I wish to accost ...</td>\n",
       "      <td>399</td>\n",
       "    </tr>\n",
       "    <tr>\n",
       "      <th>3</th>\n",
       "      <td>MR. CHEUNG PUIHANG SENG BANK LTD.DES VOEUX RD....</td>\n",
       "      <td>611</td>\n",
       "    </tr>\n",
       "    <tr>\n",
       "      <th>4</th>\n",
       "      <td>Not a surprising assessment from Embassy.</td>\n",
       "      <td>6</td>\n",
       "    </tr>\n",
       "  </tbody>\n",
       "</table>\n",
       "</div>"
      ],
      "text/plain": [
       "                                                text  word_count\n",
       "0  Supply Quality China's EXCLUSIVE dimensions at...         171\n",
       "1                         over. SidLet me know. Thx.           5\n",
       "2  Dear Friend,Greetings to you.I wish to accost ...         399\n",
       "3  MR. CHEUNG PUIHANG SENG BANK LTD.DES VOEUX RD....         611\n",
       "4          Not a surprising assessment from Embassy.           6"
      ]
     },
     "execution_count": 783,
     "metadata": {},
     "output_type": "execute_result"
    }
   ],
   "source": [
    "df['word_count'] = df['text'].apply(lambda x: len(str(x).split(\" \")))\n",
    "df[['text','word_count']].head()"
   ]
  },
  {
   "cell_type": "code",
   "execution_count": 784,
   "id": "a4a14fe7",
   "metadata": {},
   "outputs": [
    {
     "data": {
      "text/plain": [
       "count    15446.000000\n",
       "mean       195.120161\n",
       "std        322.482035\n",
       "min          1.000000\n",
       "25%         14.000000\n",
       "50%         75.000000\n",
       "75%        310.000000\n",
       "max       6142.000000\n",
       "Name: word_count, dtype: float64"
      ]
     },
     "execution_count": 784,
     "metadata": {},
     "output_type": "execute_result"
    }
   ],
   "source": [
    "df.word_count.describe()"
   ]
  },
  {
   "cell_type": "markdown",
   "id": "00e9d47f",
   "metadata": {},
   "source": [
    "# DATA PRE-PROCESSING"
   ]
  },
  {
   "cell_type": "code",
   "execution_count": 785,
   "id": "31f098f5",
   "metadata": {},
   "outputs": [],
   "source": [
    "import re\n",
    "import nltk \n",
    "import string\n",
    "\n",
    "from nltk.corpus import stopwords\n",
    "from nltk.corpus import stopwords\n",
    "from nltk.stem.porter import PorterStemmer\n",
    "from nltk.stem import SnowballStemmer\n",
    "snowball_stemmer = SnowballStemmer(\"english\")\n",
    "porter_stemmer = PorterStemmer()\n",
    "\n",
    "from nltk.tokenize import RegexpTokenizer\n",
    "from nltk.stem.wordnet import WordNetLemmatizer\n",
    "\n",
    "stop_words=stopwords.words(\"english\")"
   ]
  },
  {
   "cell_type": "markdown",
   "id": "e8d0bcd6",
   "metadata": {},
   "source": [
    "### Removing duplicates"
   ]
  },
  {
   "cell_type": "code",
   "execution_count": 786,
   "id": "eb499369",
   "metadata": {},
   "outputs": [],
   "source": [
    "df=df.drop_duplicates(keep='first')"
   ]
  },
  {
   "cell_type": "code",
   "execution_count": 787,
   "id": "90f52a2e",
   "metadata": {},
   "outputs": [
    {
     "data": {
      "text/plain": [
       "(13566, 3)"
      ]
     },
     "execution_count": 787,
     "metadata": {},
     "output_type": "execute_result"
    }
   ],
   "source": [
    "df.shape"
   ]
  },
  {
   "cell_type": "markdown",
   "id": "612b1386",
   "metadata": {},
   "source": [
    "### Removing NaN"
   ]
  },
  {
   "cell_type": "code",
   "execution_count": 788,
   "id": "a4fcb95b",
   "metadata": {},
   "outputs": [
    {
     "data": {
      "text/plain": [
       "text           3\n",
       "class         52\n",
       "word_count     0\n",
       "dtype: int64"
      ]
     },
     "execution_count": 788,
     "metadata": {},
     "output_type": "execute_result"
    }
   ],
   "source": [
    "df.isnull().sum()"
   ]
  },
  {
   "cell_type": "code",
   "execution_count": 789,
   "id": "c19ffcfc",
   "metadata": {},
   "outputs": [],
   "source": [
    "df=df.dropna(axis=0,how='any')"
   ]
  },
  {
   "cell_type": "code",
   "execution_count": 790,
   "id": "9b61cd73",
   "metadata": {},
   "outputs": [
    {
     "data": {
      "text/plain": [
       "(13512, 3)"
      ]
     },
     "execution_count": 790,
     "metadata": {},
     "output_type": "execute_result"
    }
   ],
   "source": [
    "df.shape"
   ]
  },
  {
   "cell_type": "code",
   "execution_count": 791,
   "id": "0841ba41",
   "metadata": {},
   "outputs": [
    {
     "data": {
      "text/plain": [
       "0        1\n",
       "1        0\n",
       "2        1\n",
       "3        1\n",
       "4        0\n",
       "        ..\n",
       "15441    1\n",
       "15442    1\n",
       "15443    1\n",
       "15444    1\n",
       "15445    1\n",
       "Name: class, Length: 13512, dtype: object"
      ]
     },
     "execution_count": 791,
     "metadata": {},
     "output_type": "execute_result"
    }
   ],
   "source": [
    "df['class']"
   ]
  },
  {
   "cell_type": "code",
   "execution_count": 792,
   "id": "a788840f",
   "metadata": {},
   "outputs": [],
   "source": [
    "df['class']=pd.to_numeric( df['class'], errors='coerce')"
   ]
  },
  {
   "cell_type": "code",
   "execution_count": 793,
   "id": "5b490cc4",
   "metadata": {},
   "outputs": [
    {
     "data": {
      "text/plain": [
       "6"
      ]
     },
     "execution_count": 793,
     "metadata": {},
     "output_type": "execute_result"
    }
   ],
   "source": [
    "df['class'].isnull().sum()"
   ]
  },
  {
   "cell_type": "code",
   "execution_count": 794,
   "id": "1ff21356",
   "metadata": {},
   "outputs": [],
   "source": [
    "df=df.dropna(axis=0,how='any')"
   ]
  },
  {
   "cell_type": "code",
   "execution_count": 795,
   "id": "c4d2a53e",
   "metadata": {},
   "outputs": [
    {
     "data": {
      "text/plain": [
       "(13506, 3)"
      ]
     },
     "execution_count": 795,
     "metadata": {},
     "output_type": "execute_result"
    }
   ],
   "source": [
    "df.shape"
   ]
  },
  {
   "cell_type": "code",
   "execution_count": 796,
   "id": "b37544f0",
   "metadata": {},
   "outputs": [
    {
     "data": {
      "image/png": "[encoded data removed]",
      "text/plain": [
       "<Figure size 360x504 with 1 Axes>"
      ]
     },
     "metadata": {},
     "output_type": "display_data"
    }
   ],
   "source": [
    "plt.figure(figsize = (5, 7))        \n",
    "bar = sns.countplot(x=df['class'], \n",
    "              data=df, \n",
    "              palette=\"Reds\")\n",
    "for p in bar.patches:\n",
    "    bar.annotate(format(p.get_height(), ','), \n",
    "                   (p.get_x() + p.get_width() / 2., p.get_height()), \n",
    "                   ha = 'center', va = 'center', \n",
    "                   xytext = (0, 9), \n",
    "                   textcoords = 'offset points')\n",
    "plt.title('Frequency of Legitimate and Phishing text', fontsize = 16, pad = 12)\n",
    "plt.xlabel('Legitimate (0), Phishing (1)', fontsize = 14)\n",
    "plt.ylabel(\"Frequency\",fontsize = 14)\n",
    "plt.show();"
   ]
  },
  {
   "cell_type": "markdown",
   "id": "0712b8ae",
   "metadata": {},
   "source": [
    "# Feature extraction"
   ]
  },
  {
   "cell_type": "code",
   "execution_count": 797,
   "id": "b7596fad",
   "metadata": {},
   "outputs": [
    {
     "data": {
      "text/plain": [
       "'over. SidLet me know. Thx.'"
      ]
     },
     "execution_count": 797,
     "metadata": {},
     "output_type": "execute_result"
    }
   ],
   "source": [
    "df['text'][1]"
   ]
  },
  {
   "cell_type": "code",
   "execution_count": 798,
   "id": "ac6ffc6a",
   "metadata": {},
   "outputs": [],
   "source": [
    "df['length'] = pd.Series()"
   ]
  },
  {
   "cell_type": "code",
   "execution_count": 799,
   "id": "0d5383b2",
   "metadata": {},
   "outputs": [],
   "source": [
    "def body_noWords(body_content):\n",
    "    body_noWords = len(body_content.split())\n",
    "    return body_noWords"
   ]
  },
  {
   "cell_type": "code",
   "execution_count": 800,
   "id": "b61960b0",
   "metadata": {},
   "outputs": [],
   "source": [
    "df['length'] = df['text'].apply(body_noWords)"
   ]
  },
  {
   "cell_type": "code",
   "execution_count": 801,
   "id": "3e1fe88b",
   "metadata": {},
   "outputs": [
    {
     "data": {
      "text/plain": [
       "0        171\n",
       "1          5\n",
       "2        398\n",
       "3        608\n",
       "4          6\n",
       "        ... \n",
       "15441     96\n",
       "15442     79\n",
       "15443    154\n",
       "15444    747\n",
       "15445    437\n",
       "Name: length, Length: 13506, dtype: int64"
      ]
     },
     "execution_count": 801,
     "metadata": {},
     "output_type": "execute_result"
    }
   ],
   "source": [
    "df['length']"
   ]
  },
  {
   "cell_type": "code",
   "execution_count": 802,
   "id": "973a7da8",
   "metadata": {},
   "outputs": [
    {
     "data": {
      "text/plain": [
       "<AxesSubplot:xlabel='length', ylabel='class'>"
      ]
     },
     "execution_count": 802,
     "metadata": {},
     "output_type": "execute_result"
    },
    {
     "data": {
      "image/png": "[encoded data removed]",
      "text/plain": [
       "<Figure size 1296x432 with 1 Axes>"
      ]
     },
     "metadata": {},
     "output_type": "display_data"
    }
   ],
   "source": [
    "import seaborn as sb\n",
    "import matplotlib.pyplot as plt\n",
    "sb.set()\n",
    "\n",
    "# Joint Boxplot of Total Train against Legendary Train\n",
    "f = plt.figure(figsize=(18, 6))\n",
    "sb.boxplot(x = \"length\", y = \"class\", data = df, orient = \"h\")\n"
   ]
  },
  {
   "cell_type": "code",
   "execution_count": 803,
   "id": "a1a2f22a",
   "metadata": {},
   "outputs": [],
   "source": [
    "from collections import Counter\n",
    "\n",
    "\n",
    "def body_noDistinctWords(body_content):\n",
    "    body_noDistinctWords = len(Counter(body_content.split()))\n",
    "    return body_noDistinctWords"
   ]
  },
  {
   "cell_type": "code",
   "execution_count": 804,
   "id": "3c479539",
   "metadata": {},
   "outputs": [
    {
     "data": {
      "text/plain": [
       "0        111\n",
       "1          5\n",
       "2        213\n",
       "3        313\n",
       "4          6\n",
       "        ... \n",
       "15441     73\n",
       "15442     59\n",
       "15443     88\n",
       "15444    272\n",
       "15445    220\n",
       "Name: noDistinctWords, Length: 13506, dtype: int64"
      ]
     },
     "execution_count": 804,
     "metadata": {},
     "output_type": "execute_result"
    }
   ],
   "source": [
    "df['noDistinctWords'] = pd.Series()\n",
    "df['noDistinctWords'] = df['text'].apply(body_noDistinctWords)\n",
    "df['noDistinctWords']"
   ]
  },
  {
   "cell_type": "code",
   "execution_count": 805,
   "id": "645edd03",
   "metadata": {},
   "outputs": [
    {
     "data": {
      "text/plain": [
       "<AxesSubplot:xlabel='noDistinctWords', ylabel='class'>"
      ]
     },
     "execution_count": 805,
     "metadata": {},
     "output_type": "execute_result"
    },
    {
     "data": {
      "image/png": "[encoded data removed]",
      "text/plain": [
       "<Figure size 1296x432 with 1 Axes>"
      ]
     },
     "metadata": {},
     "output_type": "display_data"
    }
   ],
   "source": [
    "import seaborn as sb\n",
    "import matplotlib.pyplot as plt\n",
    "sb.set()\n",
    "\n",
    "# Joint Boxplot of Total Train against Legendary Train\n",
    "f = plt.figure(figsize=(18, 6))\n",
    "sb.boxplot(x = \"noDistinctWords\", y = \"class\", data = df, orient = \"h\")"
   ]
  },
  {
   "cell_type": "code",
   "execution_count": null,
   "id": "f6a56be6",
   "metadata": {},
   "outputs": [],
   "source": []
  },
  {
   "cell_type": "code",
   "execution_count": 806,
   "id": "924da8d9",
   "metadata": {},
   "outputs": [],
   "source": [
    "def body_noFunctionWords(body_content):\n",
    "    body_noFunctionWords = 0\n",
    "    wordlist = re.sub(\"[^A-Za-z]\", \" \", body_content.strip()).lower().split()\n",
    "    function_words = [\"account\", \"access\", \"bank\", \"credit\", \"click\", \"identity\", \"inconvenience\", \"information\", \"limited\", \n",
    "                      \"log\", \"otp\", \"password\", \"recently\", \"risk\", \"social\", \"security\", \"service\", \"suspended\",\"provide\",\n",
    "                     \"verify\",\"details\"]\n",
    "    \n",
    "    for word in function_words:\n",
    "        body_noFunctionWords += wordlist.count(word)\n",
    "    return body_noFunctionWords\n"
   ]
  },
  {
   "cell_type": "code",
   "execution_count": 807,
   "id": "b57488f7",
   "metadata": {},
   "outputs": [
    {
     "data": {
      "text/plain": [
       "0         0\n",
       "1         0\n",
       "2         2\n",
       "3        14\n",
       "4         0\n",
       "         ..\n",
       "15441     1\n",
       "15442     1\n",
       "15443     3\n",
       "15444     7\n",
       "15445     2\n",
       "Name: nofunctionWords, Length: 13506, dtype: int64"
      ]
     },
     "execution_count": 807,
     "metadata": {},
     "output_type": "execute_result"
    }
   ],
   "source": [
    "df['nofunctionWords'] = pd.Series()\n",
    "df['nofunctionWords'] = df['text'].apply(body_noFunctionWords)\n",
    "df['nofunctionWords']"
   ]
  },
  {
   "cell_type": "code",
   "execution_count": 808,
   "id": "fc4e9c00",
   "metadata": {},
   "outputs": [
    {
     "data": {
      "text/plain": [
       "<AxesSubplot:xlabel='nofunctionWords', ylabel='class'>"
      ]
     },
     "execution_count": 808,
     "metadata": {},
     "output_type": "execute_result"
    },
    {
     "data": {
      "image/png": "[encoded data removed]",
      "text/plain": [
       "<Figure size 1296x432 with 1 Axes>"
      ]
     },
     "metadata": {},
     "output_type": "display_data"
    }
   ],
   "source": [
    "f = plt.figure(figsize=(18, 6))\n",
    "sb.boxplot(x = \"nofunctionWords\", y = \"class\", data = df, orient = \"h\")"
   ]
  },
  {
   "cell_type": "code",
   "execution_count": null,
   "id": "7aa9f280",
   "metadata": {},
   "outputs": [],
   "source": []
  },
  {
   "cell_type": "code",
   "execution_count": null,
   "id": "7197c7fe",
   "metadata": {},
   "outputs": [],
   "source": []
  },
  {
   "cell_type": "code",
   "execution_count": null,
   "id": "3c406e36",
   "metadata": {},
   "outputs": [],
   "source": []
  },
  {
   "cell_type": "markdown",
   "id": "34befee9",
   "metadata": {},
   "source": [
    "# continuing data pre-processing"
   ]
  },
  {
   "cell_type": "markdown",
   "id": "0abc9760",
   "metadata": {},
   "source": [
    "### Removing links"
   ]
  },
  {
   "cell_type": "code",
   "execution_count": 809,
   "id": "e3d77fb3",
   "metadata": {},
   "outputs": [],
   "source": [
    "def remove_hyperlink(text):\n",
    "    message = re.sub(r\"(www|http)\\S+\", \"\", str(text)) \n",
    "    return message\n",
    "\n",
    "df['text'] = df['text'].apply(remove_hyperlink)"
   ]
  },
  {
   "cell_type": "markdown",
   "id": "dc4da986",
   "metadata": {},
   "source": [
    "### Remove email address"
   ]
  },
  {
   "cell_type": "code",
   "execution_count": 810,
   "id": "91c48919",
   "metadata": {},
   "outputs": [],
   "source": [
    "def removeEmail(text):\n",
    "    message = re.sub('[a-z0-9._%+-]+@[a-z0-9.-]+\\.[a-z]{2,}','',text)\n",
    "    message = message.split()\n",
    "    return \" \".join(message)\n",
    "\n",
    "df['text'] = df['text'].apply(removeEmail)"
   ]
  },
  {
   "cell_type": "markdown",
   "id": "b6e14d95",
   "metadata": {},
   "source": [
    "### Removing Punctuation Marks"
   ]
  },
  {
   "cell_type": "code",
   "execution_count": 811,
   "id": "cb3cbd5c",
   "metadata": {
    "scrolled": false
   },
   "outputs": [],
   "source": [
    "def dataClean(text):\n",
    "    message = re.sub('[^a-zA-Z]',' ', str(text))\n",
    "    message = message.split()\n",
    "    return \" \".join(message)\n",
    "\n",
    "df['text'] = df['text'].apply(dataClean)"
   ]
  },
  {
   "cell_type": "markdown",
   "id": "c81c02ee",
   "metadata": {},
   "source": [
    "### Stop-word removal such as “a”, “we”, “the”, “is”, “are” and etc."
   ]
  },
  {
   "cell_type": "code",
   "execution_count": 813,
   "id": "50007a78",
   "metadata": {},
   "outputs": [],
   "source": [
    "STOPWORDS = set(stopwords.words('english'))\n",
    "\n",
    "def stopwords(text):\n",
    "    return \" \".join([word for word in str(text).split() if word not in STOPWORDS])\n",
    "\n",
    "df['text'] = df['text'].apply(stopwords)"
   ]
  },
  {
   "cell_type": "markdown",
   "id": "d1e78a81",
   "metadata": {},
   "source": [
    "### Converting to Lowercase"
   ]
  },
  {
   "cell_type": "code",
   "execution_count": 812,
   "id": "f31c6399",
   "metadata": {
    "scrolled": false
   },
   "outputs": [],
   "source": [
    "def lowercase(text):\n",
    "    message = text.lower()\n",
    "    return message\n",
    "\n",
    "df['text'] = df['text'].apply(lowercase)"
   ]
  },
  {
   "cell_type": "markdown",
   "id": "b872a4e7",
   "metadata": {},
   "source": [
    "### Stemming & Lemmatisation"
   ]
  },
  {
   "cell_type": "code",
   "execution_count": 814,
   "id": "cf428f9f",
   "metadata": {
    "scrolled": false
   },
   "outputs": [],
   "source": [
    "def stemming_lemmatisation(text):\n",
    "    message = text.split()\n",
    "    words = [snowball_stemmer.stem(word) for word in message if word not in stop_words]\n",
    "    lem = WordNetLemmatizer()\n",
    "    words = [lem.lemmatize(word) for word in message if not word in  stop_words]\n",
    "    return \" \".join(words)\n",
    "\n",
    "df[\"text\"] = df[\"text\"].apply(stemming_lemmatisation)"
   ]
  },
  {
   "cell_type": "code",
   "execution_count": 286,
   "id": "178bd601",
   "metadata": {},
   "outputs": [],
   "source": [
    "def processData(rawContents):\n",
    "    cleaned = tokenizeContent(rawContents)\n",
    "    cleaned = removeStopWordsFromTokenized(cleaned)\n",
    "    cleaned = performPorterStemmingOnContents(cleaned)    \n",
    "    cleaned = removePunctuationFromTokenized(cleaned)\n",
    "    cleaned = convertItemsToLower(cleaned)\n",
    "    return cleaned"
   ]
  },
  {
   "cell_type": "markdown",
   "id": "0a20ba57",
   "metadata": {},
   "source": [
    "# FEATURE EXTRACTION AND VECTORIZATION"
   ]
  },
  {
   "cell_type": "code",
   "execution_count": 846,
   "id": "f367b100",
   "metadata": {},
   "outputs": [],
   "source": [
    "from sklearn.feature_extraction.text import CountVectorizer, TfidfTransformer, TfidfVectorizer\n",
    "from sklearn.metrics import classification_report, accuracy_score, confusion_matrix\n",
    "from sklearn.pipeline import Pipeline\n",
    "from sklearn.tree import DecisionTreeClassifier\n",
    "from sklearn.decomposition import TruncatedSVD"
   ]
  },
  {
   "cell_type": "code",
   "execution_count": 847,
   "id": "167c767a",
   "metadata": {},
   "outputs": [],
   "source": [
    "X = df.drop([\"class\",\"word_count\",\"noDistinctWords\",\"length\",\"nofunctionWords\"] ,axis=1)"
   ]
  },
  {
   "cell_type": "code",
   "execution_count": 848,
   "id": "489a7702",
   "metadata": {},
   "outputs": [],
   "source": [
    "X_train, X_test, Y_train, Y_test = train_test_split(df['text'],df['class'],test_size=0.2,random_state=60 )"
   ]
  },
  {
   "cell_type": "code",
   "execution_count": 849,
   "id": "1d61ad11",
   "metadata": {},
   "outputs": [],
   "source": [
    "def features_transform(mail_text):\n",
    "    transformer = CountVectorizer(max_features=2000).fit(X_train)\n",
    "    bag_of_words = transformer.transform(mail_text)\n",
    "     \n",
    "    tfidf_transformer = TfidfTransformer().fit(bag_of_words)\n",
    "    tfidf_texts = tfidf_transformer.transform(bag_of_words)\n",
    "    \n",
    "    return tfidf_texts"
   ]
  },
  {
   "cell_type": "code",
   "execution_count": 850,
   "id": "7c366c2a",
   "metadata": {},
   "outputs": [],
   "source": [
    "cv=CountVectorizer(max_features=2000).fit(X_train)"
   ]
  },
  {
   "cell_type": "code",
   "execution_count": 851,
   "id": "35fd31aa",
   "metadata": {},
   "outputs": [],
   "source": [
    "X_train_features=features_transform(X_train)\n",
    "X_test_features=features_transform(X_test)"
   ]
  },
  {
   "cell_type": "code",
   "execution_count": 852,
   "id": "66d060f4",
   "metadata": {},
   "outputs": [
    {
     "data": {
      "text/plain": [
       "<10804x2000 sparse matrix of type '<class 'numpy.float64'>'\n",
       "\twith 551220 stored elements in Compressed Sparse Row format>"
      ]
     },
     "execution_count": 852,
     "metadata": {},
     "output_type": "execute_result"
    }
   ],
   "source": [
    "X_train_features"
   ]
  },
  {
   "cell_type": "code",
   "execution_count": 853,
   "id": "c00652d6",
   "metadata": {},
   "outputs": [],
   "source": [
    "svd     = TruncatedSVD(n_components=100, random_state=2022)\n",
    "X_train_features = svd.fit_transform(X_train_features)\n",
    "X_test_features = svd.fit_transform(X_test_features)"
   ]
  },
  {
   "cell_type": "code",
   "execution_count": 854,
   "id": "ebab04b0",
   "metadata": {},
   "outputs": [
    {
     "data": {
      "text/plain": [
       "array([[ 0.2103938 , -0.23454252,  0.0750878 , ...,  0.02360682,\n",
       "        -0.00858267, -0.07538684],\n",
       "       [ 0.02400482, -0.01556206,  0.02876271, ...,  0.0404442 ,\n",
       "        -0.00981743,  0.04118819],\n",
       "       [ 0.03463329, -0.01754671,  0.05075046, ...,  0.0105548 ,\n",
       "        -0.00059477, -0.00953963],\n",
       "       ...,\n",
       "       [ 0.43682856,  0.28972194,  0.01274182, ..., -0.03669953,\n",
       "        -0.01395317,  0.01689454],\n",
       "       [ 0.39522189, -0.40603209, -0.3449998 , ...,  0.01997196,\n",
       "        -0.0044874 ,  0.01538005],\n",
       "       [ 0.06434286, -0.02961964,  0.22183435, ...,  0.01029772,\n",
       "         0.00458351, -0.03432254]])"
      ]
     },
     "execution_count": 854,
     "metadata": {},
     "output_type": "execute_result"
    }
   ],
   "source": [
    "X_train_features"
   ]
  },
  {
   "cell_type": "code",
   "execution_count": 855,
   "id": "a3c2a196",
   "metadata": {},
   "outputs": [
    {
     "data": {
      "text/plain": [
       "(10804, 100)"
      ]
     },
     "execution_count": 855,
     "metadata": {},
     "output_type": "execute_result"
    }
   ],
   "source": [
    "X_train_features.shape"
   ]
  },
  {
   "cell_type": "code",
   "execution_count": null,
   "id": "4eb3b656",
   "metadata": {},
   "outputs": [],
   "source": []
  },
  {
   "cell_type": "code",
   "execution_count": null,
   "id": "537e41f6",
   "metadata": {},
   "outputs": [],
   "source": []
  },
  {
   "cell_type": "markdown",
   "id": "7d85742c",
   "metadata": {},
   "source": [
    "### Creating the train dataset for extracted features"
   ]
  },
  {
   "cell_type": "code",
   "execution_count": 856,
   "id": "07d1f5e6",
   "metadata": {},
   "outputs": [],
   "source": [
    "X1 = df.drop([\"class\",\"word_count\",\"noDistinctWords\",\"text\"] ,axis=1)"
   ]
  },
  {
   "cell_type": "code",
   "execution_count": 857,
   "id": "03648f1b",
   "metadata": {},
   "outputs": [],
   "source": [
    "X_train1, X_test1, Y_train1, Y_test1 = train_test_split(X1,df['class'],test_size=0.2,random_state=60)"
   ]
  },
  {
   "cell_type": "code",
   "execution_count": 858,
   "id": "67112ba2",
   "metadata": {},
   "outputs": [
    {
     "data": {
      "text/html": [
       "<div>\n",
       "<style scoped>\n",
       "    .dataframe tbody tr th:only-of-type {\n",
       "        vertical-align: middle;\n",
       "    }\n",
       "\n",
       "    .dataframe tbody tr th {\n",
       "        vertical-align: top;\n",
       "    }\n",
       "\n",
       "    .dataframe thead th {\n",
       "        text-align: right;\n",
       "    }\n",
       "</style>\n",
       "<table border=\"1\" class=\"dataframe\">\n",
       "  <thead>\n",
       "    <tr style=\"text-align: right;\">\n",
       "      <th></th>\n",
       "      <th>length</th>\n",
       "      <th>nofunctionWords</th>\n",
       "    </tr>\n",
       "  </thead>\n",
       "  <tbody>\n",
       "    <tr>\n",
       "      <th>3030</th>\n",
       "      <td>218</td>\n",
       "      <td>2</td>\n",
       "    </tr>\n",
       "    <tr>\n",
       "      <th>1309</th>\n",
       "      <td>21</td>\n",
       "      <td>0</td>\n",
       "    </tr>\n",
       "    <tr>\n",
       "      <th>7849</th>\n",
       "      <td>7</td>\n",
       "      <td>0</td>\n",
       "    </tr>\n",
       "    <tr>\n",
       "      <th>12536</th>\n",
       "      <td>249</td>\n",
       "      <td>2</td>\n",
       "    </tr>\n",
       "    <tr>\n",
       "      <th>6098</th>\n",
       "      <td>4</td>\n",
       "      <td>0</td>\n",
       "    </tr>\n",
       "    <tr>\n",
       "      <th>...</th>\n",
       "      <td>...</td>\n",
       "      <td>...</td>\n",
       "    </tr>\n",
       "    <tr>\n",
       "      <th>7478</th>\n",
       "      <td>167</td>\n",
       "      <td>3</td>\n",
       "    </tr>\n",
       "    <tr>\n",
       "      <th>1541</th>\n",
       "      <td>38</td>\n",
       "      <td>1</td>\n",
       "    </tr>\n",
       "    <tr>\n",
       "      <th>13662</th>\n",
       "      <td>238</td>\n",
       "      <td>0</td>\n",
       "    </tr>\n",
       "    <tr>\n",
       "      <th>3479</th>\n",
       "      <td>554</td>\n",
       "      <td>12</td>\n",
       "    </tr>\n",
       "    <tr>\n",
       "      <th>2467</th>\n",
       "      <td>233</td>\n",
       "      <td>0</td>\n",
       "    </tr>\n",
       "  </tbody>\n",
       "</table>\n",
       "<p>10804 rows × 2 columns</p>\n",
       "</div>"
      ],
      "text/plain": [
       "       length  nofunctionWords\n",
       "3030      218                2\n",
       "1309       21                0\n",
       "7849        7                0\n",
       "12536     249                2\n",
       "6098        4                0\n",
       "...       ...              ...\n",
       "7478      167                3\n",
       "1541       38                1\n",
       "13662     238                0\n",
       "3479      554               12\n",
       "2467      233                0\n",
       "\n",
       "[10804 rows x 2 columns]"
      ]
     },
     "execution_count": 858,
     "metadata": {},
     "output_type": "execute_result"
    }
   ],
   "source": [
    "X_train1"
   ]
  },
  {
   "cell_type": "code",
   "execution_count": 859,
   "id": "96e3abf8",
   "metadata": {},
   "outputs": [
    {
     "data": {
      "text/plain": [
       "(10804, 2)"
      ]
     },
     "execution_count": 859,
     "metadata": {},
     "output_type": "execute_result"
    }
   ],
   "source": [
    "X_train1.shape"
   ]
  },
  {
   "cell_type": "code",
   "execution_count": 860,
   "id": "964f61e8",
   "metadata": {},
   "outputs": [],
   "source": [
    "from sklearn import preprocessing"
   ]
  },
  {
   "cell_type": "code",
   "execution_count": 861,
   "id": "0faacac2",
   "metadata": {},
   "outputs": [],
   "source": [
    "scaler = preprocessing.MinMaxScaler(feature_range=(-1, 1))\n",
    "X_train1_2 = scaler.fit_transform(X_train1)\n",
    "X_test1_2 = scaler.fit_transform(X_test1)"
   ]
  },
  {
   "cell_type": "code",
   "execution_count": 862,
   "id": "97716deb",
   "metadata": {},
   "outputs": [
    {
     "data": {
      "text/plain": [
       "array([[-0.92166727, -0.91304348],\n",
       "       [-0.99245419, -1.        ],\n",
       "       [-0.99748473, -1.        ],\n",
       "       ...,\n",
       "       [-0.91448078, -1.        ],\n",
       "       [-0.80093424, -0.47826087],\n",
       "       [-0.9162774 , -1.        ]])"
      ]
     },
     "execution_count": 862,
     "metadata": {},
     "output_type": "execute_result"
    }
   ],
   "source": [
    "X_train1_2"
   ]
  },
  {
   "cell_type": "markdown",
   "id": "44641805",
   "metadata": {},
   "source": [
    "### Combining two train dataset"
   ]
  },
  {
   "cell_type": "code",
   "execution_count": 863,
   "id": "acb785fa",
   "metadata": {},
   "outputs": [],
   "source": [
    "X_train_features = nm.hstack((X_train1_2,X_train_features))\n",
    "X_test_features = nm.hstack((X_test1_2,X_test_features))"
   ]
  },
  {
   "cell_type": "code",
   "execution_count": 864,
   "id": "1a77ec1d",
   "metadata": {},
   "outputs": [
    {
     "data": {
      "text/plain": [
       "(10804, 102)"
      ]
     },
     "execution_count": 864,
     "metadata": {},
     "output_type": "execute_result"
    }
   ],
   "source": [
    "X_train_features.shape"
   ]
  },
  {
   "cell_type": "code",
   "execution_count": 865,
   "id": "d89ef2fe",
   "metadata": {},
   "outputs": [
    {
     "data": {
      "text/plain": [
       "array([[-9.21667266e-01, -9.13043478e-01,  2.10393804e-01, ...,\n",
       "         2.36068180e-02, -8.58267346e-03, -7.53868355e-02],\n",
       "       [-9.92454186e-01, -1.00000000e+00,  2.40048228e-02, ...,\n",
       "         4.04441977e-02, -9.81743015e-03,  4.11881858e-02],\n",
       "       [-9.97484729e-01, -1.00000000e+00,  3.46332878e-02, ...,\n",
       "         1.05548003e-02, -5.94765323e-04, -9.53963096e-03],\n",
       "       ...,\n",
       "       [-9.14480776e-01, -1.00000000e+00,  4.36828563e-01, ...,\n",
       "        -3.66995257e-02, -1.39531746e-02,  1.68945382e-02],\n",
       "       [-8.00934244e-01, -4.78260870e-01,  3.95221891e-01, ...,\n",
       "         1.99719583e-02, -4.48740467e-03,  1.53800478e-02],\n",
       "       [-9.16277398e-01, -1.00000000e+00,  6.43428614e-02, ...,\n",
       "         1.02977176e-02,  4.58351097e-03, -3.43225437e-02]])"
      ]
     },
     "execution_count": 865,
     "metadata": {},
     "output_type": "execute_result"
    }
   ],
   "source": [
    "X_train_features"
   ]
  },
  {
   "cell_type": "code",
   "execution_count": 866,
   "id": "25ea12f5",
   "metadata": {},
   "outputs": [],
   "source": [
    "import pickle\n",
    "pickle.dump(cv, open('transform.pkl', 'wb'))"
   ]
  },
  {
   "cell_type": "markdown",
   "id": "ba5e4ffc",
   "metadata": {},
   "source": [
    "# MODEL TRAINING"
   ]
  },
  {
   "cell_type": "code",
   "execution_count": 867,
   "id": "936400e8",
   "metadata": {},
   "outputs": [],
   "source": [
    "def generate_f1_and_heatmap(model, x, y):\n",
    "    confusion_m = confusion_matrix(y,model.predict(x))\n",
    "    sns.heatmap(confusion_m,annot=True,fmt=\"d\")\n",
    "    ac=\"{:.4f}\".format(f1_score(y,model.predict(x)))\n",
    "    print('f1_test : ', ac)\n",
    "    print(\"Y axis : Actual Value.\")\n",
    "    print(\"X axis : Predicted Value.\")\n",
    "    return 1"
   ]
  },
  {
   "cell_type": "code",
   "execution_count": 868,
   "id": "e09e6807",
   "metadata": {},
   "outputs": [],
   "source": [
    "def generate_f1(model, x, y):\n",
    "    confusion_m = confusion_matrix(y,model.predict(x))\n",
    "    ac=\"{:.4f}\".format(f1_score(y,model.predict(x)))\n",
    "    print('f1_train : ', ac)\n",
    "    return 1"
   ]
  },
  {
   "cell_type": "markdown",
   "id": "23b34ecb",
   "metadata": {},
   "source": [
    "## SVM"
   ]
  },
  {
   "cell_type": "code",
   "execution_count": 869,
   "id": "2249d897",
   "metadata": {},
   "outputs": [
    {
     "name": "stdout",
     "output_type": "stream",
     "text": [
      "f1_train :  0.9695\n",
      "f1_test :  0.8242\n",
      "Y axis : Actual Value.\n",
      "X axis : Predicted Value.\n"
     ]
    },
    {
     "data": {
      "text/plain": [
       "1"
      ]
     },
     "execution_count": 869,
     "metadata": {},
     "output_type": "execute_result"
    },
    {
     "data": {
      "image/png": "[encoded data removed]",
      "text/plain": [
       "<Figure size 432x288 with 2 Axes>"
      ]
     },
     "metadata": {},
     "output_type": "display_data"
    }
   ],
   "source": [
    "from sklearn.svm import SVC\n",
    "from sklearn.metrics import accuracy_score\n",
    "from sklearn.model_selection import GridSearchCV\n",
    "from sklearn.metrics import f1_score\n",
    "\n",
    "svm_model = SVC()\n",
    "svm_model.fit(X_train_features,Y_train)\n",
    "\n",
    "\n",
    "generate_f1(svm_model, X_train_features, Y_train)\n",
    "generate_f1_and_heatmap(svm_model, X_test_features, Y_test)"
   ]
  },
  {
   "cell_type": "markdown",
   "id": "e9b379c6",
   "metadata": {},
   "source": [
    "## Logistic Regression"
   ]
  },
  {
   "cell_type": "code",
   "execution_count": 870,
   "id": "076bd8c1",
   "metadata": {},
   "outputs": [
    {
     "name": "stdout",
     "output_type": "stream",
     "text": [
      "f1_train :  0.9537\n",
      "f1_test :  0.8257\n",
      "Y axis : Actual Value.\n",
      "X axis : Predicted Value.\n"
     ]
    },
    {
     "data": {
      "text/plain": [
       "1"
      ]
     },
     "execution_count": 870,
     "metadata": {},
     "output_type": "execute_result"
    },
    {
     "data": {
      "image/png": "[encoded data removed]",
      "text/plain": [
       "<Figure size 432x288 with 2 Axes>"
      ]
     },
     "metadata": {},
     "output_type": "display_data"
    }
   ],
   "source": [
    "from sklearn.linear_model import LogisticRegression\n",
    "\n",
    "\n",
    "lr_model = LogisticRegression()\n",
    "lr_model.fit(X_train_features,Y_train)\n",
    "\n",
    "\n",
    "generate_f1(lr_model, X_train_features, Y_train)\n",
    "generate_f1_and_heatmap(lr_model, X_test_features, Y_test)"
   ]
  },
  {
   "cell_type": "markdown",
   "id": "e6383176",
   "metadata": {},
   "source": [
    "## KNN"
   ]
  },
  {
   "cell_type": "code",
   "execution_count": 871,
   "id": "d4e53b7d",
   "metadata": {},
   "outputs": [
    {
     "name": "stdout",
     "output_type": "stream",
     "text": [
      "f1_train :  0.9717\n",
      "f1_test :  0.8268\n",
      "Y axis : Actual Value.\n",
      "X axis : Predicted Value.\n"
     ]
    },
    {
     "data": {
      "text/plain": [
       "1"
      ]
     },
     "execution_count": 871,
     "metadata": {},
     "output_type": "execute_result"
    },
    {
     "data": {
      "image/png": "[encoded data removed]",
      "text/plain": [
       "<Figure size 432x288 with 2 Axes>"
      ]
     },
     "metadata": {},
     "output_type": "display_data"
    }
   ],
   "source": [
    "from sklearn.neighbors import KNeighborsClassifier\n",
    "\n",
    "knn_model = KNeighborsClassifier()\n",
    "knn_model.fit(X_train_features,Y_train)\n",
    "\n",
    "generate_f1(knn_model, X_train_features, Y_train)\n",
    "generate_f1_and_heatmap(knn_model, X_test_features, Y_test)"
   ]
  },
  {
   "cell_type": "markdown",
   "id": "adfbc471",
   "metadata": {},
   "source": [
    "## Naive Bayes"
   ]
  },
  {
   "cell_type": "code",
   "execution_count": 872,
   "id": "d80d6a5c",
   "metadata": {},
   "outputs": [
    {
     "name": "stdout",
     "output_type": "stream",
     "text": [
      "f1_train :  0.4426\n",
      "f1_test :  0.6081\n",
      "Y axis : Actual Value.\n",
      "X axis : Predicted Value.\n"
     ]
    },
    {
     "data": {
      "text/plain": [
       "1"
      ]
     },
     "execution_count": 872,
     "metadata": {},
     "output_type": "execute_result"
    },
    {
     "data": {
      "image/png": "[encoded data removed]",
      "text/plain": [
       "<Figure size 432x288 with 2 Axes>"
      ]
     },
     "metadata": {},
     "output_type": "display_data"
    }
   ],
   "source": [
    "from sklearn.naive_bayes import MultinomialNB\n",
    "from sklearn.preprocessing import MinMaxScaler\n",
    "\n",
    "mnb_model = MultinomialNB()\n",
    "X_train_features1 = MinMaxScaler().fit_transform(X_train_features)\n",
    "X_test_features1 = MinMaxScaler().fit_transform(X_test_features)\n",
    "mnb_model.fit(X_train_features1,Y_train)\n",
    "\n",
    "generate_f1(mnb_model, X_train_features1, Y_train)\n",
    "generate_f1_and_heatmap(mnb_model, X_test_features1, Y_test)"
   ]
  },
  {
   "cell_type": "code",
   "execution_count": 873,
   "id": "31be2d85",
   "metadata": {},
   "outputs": [
    {
     "name": "stdout",
     "output_type": "stream",
     "text": [
      "f1_train :  0.8247\n",
      "f1_test :  0.8220\n",
      "Y axis : Actual Value.\n",
      "X axis : Predicted Value.\n"
     ]
    },
    {
     "data": {
      "text/plain": [
       "1"
      ]
     },
     "execution_count": 873,
     "metadata": {},
     "output_type": "execute_result"
    },
    {
     "data": {
      "image/png": "[encoded data removed]",
      "text/plain": [
       "<Figure size 432x288 with 2 Axes>"
      ]
     },
     "metadata": {},
     "output_type": "display_data"
    }
   ],
   "source": [
    "from sklearn.naive_bayes import ComplementNB\n",
    "\n",
    "cnb_model = ComplementNB()\n",
    "cnb_model.fit(X_train_features1,Y_train)\n",
    "\n",
    "generate_f1(cnb_model, X_train_features1, Y_train)\n",
    "generate_f1_and_heatmap(cnb_model, X_test_features1, Y_test)"
   ]
  },
  {
   "cell_type": "markdown",
   "id": "d749b98c",
   "metadata": {},
   "source": [
    "## Decision Tree"
   ]
  },
  {
   "cell_type": "code",
   "execution_count": 874,
   "id": "1600efb3",
   "metadata": {},
   "outputs": [
    {
     "name": "stdout",
     "output_type": "stream",
     "text": [
      "f1_train :  0.9986\n",
      "f1_test :  0.6699\n",
      "Y axis : Actual Value.\n",
      "X axis : Predicted Value.\n"
     ]
    },
    {
     "data": {
      "text/plain": [
       "1"
      ]
     },
     "execution_count": 874,
     "metadata": {},
     "output_type": "execute_result"
    },
    {
     "data": {
      "image/png": "[encoded data removed]",
      "text/plain": [
       "<Figure size 432x288 with 2 Axes>"
      ]
     },
     "metadata": {},
     "output_type": "display_data"
    }
   ],
   "source": [
    "from sklearn.tree import DecisionTreeClassifier\n",
    "\n",
    "dt_model = DecisionTreeClassifier()\n",
    "dt_model.fit(X_train_features,Y_train)\n",
    "\n",
    "generate_f1(dt_model, X_train_features, Y_train)\n",
    "generate_f1_and_heatmap(dt_model, X_test_features, Y_test)"
   ]
  },
  {
   "cell_type": "markdown",
   "id": "ae5fb9c2",
   "metadata": {},
   "source": [
    "## Random Forest"
   ]
  },
  {
   "cell_type": "code",
   "execution_count": 876,
   "id": "bb2556c7",
   "metadata": {},
   "outputs": [
    {
     "name": "stdout",
     "output_type": "stream",
     "text": [
      "f1_train :  0.9986\n",
      "f1_test :  0.8519\n",
      "Y axis : Actual Value.\n",
      "X axis : Predicted Value.\n"
     ]
    },
    {
     "data": {
      "text/plain": [
       "1"
      ]
     },
     "execution_count": 876,
     "metadata": {},
     "output_type": "execute_result"
    },
    {
     "data": {
      "image/png": "[encoded data removed]",
      "text/plain": [
       "<Figure size 432x288 with 2 Axes>"
      ]
     },
     "metadata": {},
     "output_type": "display_data"
    }
   ],
   "source": [
    "from sklearn.ensemble import RandomForestClassifier\n",
    "\n",
    "rf_model = RandomForestClassifier()\n",
    "rf_model.fit(X_train_features,Y_train)\n",
    "\n",
    "generate_f1(rf_model, X_train_features, Y_train)\n",
    "generate_f1_and_heatmap(rf_model, X_test_features, Y_test)"
   ]
  },
  {
   "cell_type": "markdown",
   "id": "2afb8e55",
   "metadata": {},
   "source": [
    "## Xgboost"
   ]
  },
  {
   "cell_type": "code",
   "execution_count": 877,
   "id": "f0e7d563",
   "metadata": {},
   "outputs": [
    {
     "name": "stdout",
     "output_type": "stream",
     "text": [
      "f1_train :  0.9985\n",
      "f1_test :  0.8650\n",
      "Y axis : Actual Value.\n",
      "X axis : Predicted Value.\n"
     ]
    },
    {
     "data": {
      "text/plain": [
       "1"
      ]
     },
     "execution_count": 877,
     "metadata": {},
     "output_type": "execute_result"
    },
    {
     "data": {
      "image/png": "[encoded data removed]",
      "text/plain": [
       "<Figure size 432x288 with 2 Axes>"
      ]
     },
     "metadata": {},
     "output_type": "display_data"
    }
   ],
   "source": [
    "from xgboost import XGBClassifier\n",
    "\n",
    "xgb_model = XGBClassifier(eval_metric='mlogloss')\n",
    "xgb_model.fit(X_train_features, Y_train)\n",
    "\n",
    "generate_f1(xgb_model, X_train_features, Y_train)\n",
    "generate_f1_and_heatmap(xgb_model, X_test_features, Y_test)"
   ]
  },
  {
   "cell_type": "markdown",
   "id": "37a591aa",
   "metadata": {},
   "source": [
    "## Light Gradient Boosting Machine"
   ]
  },
  {
   "cell_type": "code",
   "execution_count": 878,
   "id": "45050edb",
   "metadata": {},
   "outputs": [
    {
     "name": "stdout",
     "output_type": "stream",
     "text": [
      "f1_train :  0.9985\n",
      "f1_test :  0.8792\n",
      "Y axis : Actual Value.\n",
      "X axis : Predicted Value.\n"
     ]
    },
    {
     "data": {
      "text/plain": [
       "1"
      ]
     },
     "execution_count": 878,
     "metadata": {},
     "output_type": "execute_result"
    },
    {
     "data": {
      "image/png": "[encoded data removed]",
      "text/plain": [
       "<Figure size 432x288 with 2 Axes>"
      ]
     },
     "metadata": {},
     "output_type": "display_data"
    }
   ],
   "source": [
    "import lightgbm as lgb\n",
    "lgbm_model = lgb.LGBMClassifier()\n",
    "lgbm_model.fit(X_train_features, Y_train)\n",
    "\n",
    "generate_f1(lgbm_model, X_train_features, Y_train)\n",
    "generate_f1_and_heatmap(lgbm_model, X_test_features, Y_test)"
   ]
  },
  {
   "cell_type": "markdown",
   "id": "2e6db893",
   "metadata": {},
   "source": [
    "# Result Visualisation"
   ]
  },
  {
   "cell_type": "code",
   "execution_count": 767,
   "id": "d64e7b0f",
   "metadata": {},
   "outputs": [
    {
     "data": {
      "image/png": "[encoded data removed]",
      "text/plain": [
       "<Figure size 720x720 with 1 Axes>"
      ]
     },
     "metadata": {},
     "output_type": "display_data"
    }
   ],
   "source": [
    "import matplotlib.pyplot as plt\n",
    "\n",
    "F1_dict = {'SVM':0.7808,'LR':0.7825,'KNN':0.7838,'CNB':0.7762,'DT':0.6430,'RF':0.8336,'XGB':0.8197,'LGBM':0.8292}\n",
    "models = list(F1_dict.keys())\n",
    "accuracies = list(F1_dict.values())\n",
    "fig = plt.figure(figsize = (10, 10))\n",
    "#  Bar plot\n",
    "plt.bar(models, accuracies, color ='coral',width = 0.5)\n",
    "plt.xlabel(\"Models\")\n",
    "plt.ylabel(\"F1 values\")\n",
    "plt.title(\"F1  Comparison\")\n",
    "plt.grid(True,linestyle=':',color='r',alpha=0.8)\n",
    "for a, b, label in zip(F1_dict.keys(), F1_dict.values(),F1_dict.values()):\n",
    "    plt.text(a,\n",
    "             b,\n",
    "             label,\n",
    "             ha='center', \n",
    "             va='bottom')\n",
    "plt.show()"
   ]
  },
  {
   "cell_type": "markdown",
   "id": "b76d1822",
   "metadata": {},
   "source": [
    "## Final Model"
   ]
  },
  {
   "cell_type": "code",
   "execution_count": 879,
   "id": "228cc265",
   "metadata": {},
   "outputs": [
    {
     "name": "stdout",
     "output_type": "stream",
     "text": [
      "f1_train :  0.9985\n",
      "f1_test :  0.8702\n",
      "Y axis : Actual Value.\n",
      "X axis : Predicted Value.\n"
     ]
    },
    {
     "data": {
      "text/plain": [
       "1"
      ]
     },
     "execution_count": 879,
     "metadata": {},
     "output_type": "execute_result"
    },
    {
     "data": {
      "image/png": "[encoded data removed]",
      "text/plain": [
       "<Figure size 432x288 with 2 Axes>"
      ]
     },
     "metadata": {},
     "output_type": "display_data"
    }
   ],
   "source": [
    "from mlxtend.classifier import StackingCVClassifier\n",
    "\n",
    "lrclf = LogisticRegression()\n",
    "scclf = StackingCVClassifier(\n",
    "    classifiers=[ rf_model, xgb_model, lgbm_model], meta_classifier=lrclf, cv=5)\n",
    "scclf.fit(X_train_features, Y_train)\n",
    "\n",
    "\n",
    "generate_f1(scclf, X_train_features, Y_train)\n",
    "generate_f1_and_heatmap(scclf, X_test_features, Y_test)"
   ]
  },
  {
   "cell_type": "markdown",
   "id": "6f0430d1",
   "metadata": {},
   "source": [
    "# Transforming into Pickle file"
   ]
  },
  {
   "cell_type": "code",
   "execution_count": 769,
   "id": "93e4d2c5",
   "metadata": {},
   "outputs": [],
   "source": [
    "import pickle\n",
    "pickle.dump(scclf,open('SpamEmailDetection.pkl','wb'))"
   ]
  },
  {
   "cell_type": "code",
   "execution_count": null,
   "id": "e11a6ef4",
   "metadata": {},
   "outputs": [],
   "source": []
  },
  {
   "cell_type": "code",
   "execution_count": null,
   "id": "6ea732ea",
   "metadata": {},
   "outputs": [],
   "source": []
  },
  {
   "cell_type": "code",
   "execution_count": null,
   "id": "785c4f68",
   "metadata": {},
   "outputs": [],
   "source": []
  },
  {
   "cell_type": "code",
   "execution_count": null,
   "id": "ae8d8743",
   "metadata": {},
   "outputs": [],
   "source": []
  },
  {
   "cell_type": "code",
   "execution_count": null,
   "id": "420df6a3",
   "metadata": {},
   "outputs": [],
   "source": []
  },
  {
   "cell_type": "code",
   "execution_count": null,
   "id": "32fb240b",
   "metadata": {},
   "outputs": [],
   "source": []
  }
 ],
 "metadata": {
  "kernelspec": {
   "display_name": "Python 3",
   "language": "python",
   "name": "python3"
  },
  "language_info": {
   "codemirror_mode": {
    "name": "ipython",
    "version": 3
   },
   "file_extension": ".py",
   "mimetype": "text/x-python",
   "name": "python",
   "nbconvert_exporter": "python",
   "pygments_lexer": "ipython3",
   "version": "3.8.8"
  }
 },
 "nbformat": 4,
 "nbformat_minor": 5
}
